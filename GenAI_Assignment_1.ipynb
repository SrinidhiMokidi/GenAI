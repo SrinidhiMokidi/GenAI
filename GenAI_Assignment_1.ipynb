{
  "nbformat": 4,
  "nbformat_minor": 0,
  "metadata": {
    "colab": {
      "provenance": [],
      "authorship_tag": "ABX9TyMsp3rkJcaoKPjDAgDKdRRu",
      "include_colab_link": true
    },
    "kernelspec": {
      "name": "python3",
      "display_name": "Python 3"
    },
    "language_info": {
      "name": "python"
    }
  },
  "cells": [
    {
      "cell_type": "markdown",
      "metadata": {
        "id": "view-in-github",
        "colab_type": "text"
      },
      "source": [
        "<a href=\"https://colab.research.google.com/github/SrinidhiMokidi/GenAI/blob/main/GenAI_Assignment_1.ipynb\" target=\"_parent\"><img src=\"https://colab.research.google.com/assets/colab-badge.svg\" alt=\"Open In Colab\"/></a>"
      ]
    },
    {
      "cell_type": "code",
      "execution_count": 1,
      "metadata": {
        "colab": {
          "base_uri": "https://localhost:8080/"
        },
        "id": "ucgfk7byFyHI",
        "outputId": "bd601131-ad8b-4fd9-c2d7-4b7195f5c9a3"
      },
      "outputs": [
        {
          "output_type": "stream",
          "name": "stdout",
          "text": [
            "Mean Squared Error (Scratch): 0.24600000000000147\n",
            "Mean Squared Error (Scikit-learn): 0.24600000000000147\n",
            "Mean Absolute Error (Scratch): 0.4600000000000016\n",
            "Mean Absolute Error (Scikit-learn): 0.4600000000000016\n",
            "R-squared (Scikit-learn): 0.99877\n"
          ]
        }
      ],
      "source": [
        "import numpy as np\n",
        "from sklearn.metrics import mean_squared_error, mean_absolute_error, r2_score\n",
        "\n",
        "# Sample data from the table\n",
        "y_actual = np.array([20, 30, 40, 50, 60])\n",
        "y_pred = np.array([20.5, 30.3, 40.2, 50.6, 60.7])\n",
        "\n",
        "# Calculate error metrics from scratch\n",
        "def mean_squared_error_scratch(y_actual, y_pred):\n",
        "    \"\"\"Calculates Mean Squared Error.\"\"\"\n",
        "    mse = np.mean((y_actual - y_pred)**2)\n",
        "    return mse\n",
        "\n",
        "def mean_absolute_error_scratch(y_actual, y_pred):\n",
        "    \"\"\"Calculates Mean Absolute Error.\"\"\"\n",
        "    mae = np.mean(np.abs(y_actual - y_pred))\n",
        "    return mae\n",
        "\n",
        "# Calculate error metrics using scikit-learn library\n",
        "mse_sklearn = mean_squared_error(y_actual, y_pred)\n",
        "mae_sklearn = mean_absolute_error(y_actual, y_pred)\n",
        "r2_sklearn = r2_score(y_actual, y_pred)\n",
        "\n",
        "# Print results\n",
        "print(\"Mean Squared Error (Scratch):\", mean_squared_error_scratch(y_actual, y_pred))\n",
        "print(\"Mean Squared Error (Scikit-learn):\", mse_sklearn)\n",
        "\n",
        "print(\"Mean Absolute Error (Scratch):\", mean_absolute_error_scratch(y_actual, y_pred))\n",
        "print(\"Mean Absolute Error (Scikit-learn):\", mae_sklearn)\n",
        "\n",
        "print(\"R-squared (Scikit-learn):\", r2_sklearn)"
      ]
    },
    {
      "cell_type": "code",
      "source": [
        "import numpy as np\n",
        "from sklearn.metrics import accuracy_score, precision_score, recall_score, f1_score, confusion_matrix\n",
        "\n",
        "Y_actual = np.array([0, 1, 2, 0, 1, 2, 0, 1, 2, 0, 1, 2])\n",
        "Y_pred = np.array([0, 1, 0, 0, 0, 0, 1, 2, 1, 2, 2, 2])\n",
        "\n",
        "def confusion_matrix_from_scratch(y_true, y_pred):\n",
        "    classes = np.unique(y_true)\n",
        "    matrix = np.zeros((len(classes), len(classes)), dtype=int)\n",
        "\n",
        "    for true, pred in zip(y_true, y_pred):\n",
        "        matrix[true, pred] += 1\n",
        "\n",
        "    return matrix\n",
        "\n",
        "def calculate_precision_recall_f1(matrix):\n",
        "    tp = np.diag(matrix)\n",
        "    fp = np.sum(matrix, axis=0) - tp\n",
        "    fn = np.sum(matrix, axis=1) - tp\n",
        "    precision = tp / (tp + fp)\n",
        "    recall = tp / (tp + fn)\n",
        "    f1 = 2 * (precision * recall) / (precision + recall)\n",
        "\n",
        "    return precision, recall, f1\n",
        "\n",
        "cm = confusion_matrix_from_scratch(Y_actual, Y_pred)\n",
        "print(f\"Confusion Matrix (from scratch):\\n{cm}\")\n",
        "\n",
        "precision, recall, f1 = calculate_precision_recall_f1(cm)\n",
        "print(\"\\nPrecision, Recall, F1-Score (from scratch):\")\n",
        "for i in range(len(precision)):\n",
        "    print(f\"Class {i}: Precision = {precision[i]}, Recall = {recall[i]}, F1-Score = {f1[i]}\")\n",
        "\n",
        "\n",
        "accuracy = accuracy_score(Y_actual, Y_pred)\n",
        "precision_lib = precision_score(Y_actual, Y_pred, average=None)\n",
        "recall_lib = recall_score(Y_actual, Y_pred, average=None)\n",
        "f1_lib = f1_score(Y_actual, Y_pred, average=None)\n",
        "confusion_matrix_lib = confusion_matrix(Y_actual, Y_pred)\n",
        "\n",
        "\n"
      ],
      "metadata": {
        "colab": {
          "base_uri": "https://localhost:8080/"
        },
        "id": "jb_tp_46GFiv",
        "outputId": "82fc5c61-3fd6-4fc9-a8e5-e68cd7eb455b"
      },
      "execution_count": 2,
      "outputs": [
        {
          "output_type": "stream",
          "name": "stdout",
          "text": [
            "Confusion Matrix (from scratch):\n",
            "[[2 1 1]\n",
            " [1 1 2]\n",
            " [2 1 1]]\n",
            "\n",
            "Precision, Recall, F1-Score (from scratch):\n",
            "Class 0: Precision = 0.4, Recall = 0.5, F1-Score = 0.4444444444444445\n",
            "Class 1: Precision = 0.3333333333333333, Recall = 0.25, F1-Score = 0.28571428571428575\n",
            "Class 2: Precision = 0.25, Recall = 0.25, F1-Score = 0.25\n"
          ]
        }
      ]
    }
  ]
}