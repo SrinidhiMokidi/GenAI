{
  "nbformat": 4,
  "nbformat_minor": 0,
  "metadata": {
    "colab": {
      "provenance": [],
      "authorship_tag": "ABX9TyO1lxNEjQwTXJEVl3wtCqVo",
      "include_colab_link": true
    },
    "kernelspec": {
      "name": "python3",
      "display_name": "Python 3"
    },
    "language_info": {
      "name": "python"
    }
  },
  "cells": [
    {
      "cell_type": "markdown",
      "metadata": {
        "id": "view-in-github",
        "colab_type": "text"
      },
      "source": [
        "<a href=\"https://colab.research.google.com/github/SrinidhiMokidi/GenAI/blob/main/GenAI_Assignment_2.ipynb\" target=\"_parent\"><img src=\"https://colab.research.google.com/assets/colab-badge.svg\" alt=\"Open In Colab\"/></a>"
      ]
    },
    {
      "cell_type": "code",
      "execution_count": 7,
      "metadata": {
        "colab": {
          "base_uri": "https://localhost:8080/"
        },
        "id": "O237ZHvU88ap",
        "outputId": "81586652-7233-4513-82be-4ec84e3e6a5f"
      },
      "outputs": [
        {
          "output_type": "stream",
          "name": "stdout",
          "text": [
            "Status: Optimal\n",
            "Status: Optimal\n",
            "Optimal number of units of chocolate A: 2.0\n",
            "Optimal number of units of chocolate B: 3.0\n",
            "Maximum profit: 27.0\n"
          ]
        }
      ],
      "source": [
        "import pulp\n",
        "\n",
        "#Create Linear programming problem\n",
        "problem = pulp.LpProblem(\"Chocolate_Profit_Maximization\",pulp.LpMaximize)\n",
        "\n",
        "#Define decision variables\n",
        "a=pulp.LpVariable(\"a\",lowBound=0)\n",
        "b=pulp.LpVariable(\"b\",lowBound=0)\n",
        "\n",
        "#Define objective function(profit maximization)\n",
        "problem += 6*a+5*b\n",
        "\n",
        "#Define constraints\n",
        "problem += a+b<=5 #Milk constraints\n",
        "problem += 3*a+2*b<=12 #choco constraints\n",
        "\n",
        "#Solve the problem\n",
        "problem.solve()\n",
        "\n",
        "#Print the results\n",
        "print(\"Status:\", pulp.LpStatus[problem.status])\n",
        "print(\"Status:\", pulp.LpStatus[problem.status])\n",
        "print(\"Optimal number of units of chocolate A:\", a.value())\n",
        "print(\"Optimal number of units of chocolate B:\", b.value())\n",
        "print(\"Maximum profit:\", pulp.value(problem.objective))"
      ]
    },
    {
      "cell_type": "code",
      "source": [
        "!pip install pulp"
      ],
      "metadata": {
        "colab": {
          "base_uri": "https://localhost:8080/"
        },
        "id": "df7-_HV-DD3m",
        "outputId": "9b782f6a-acf1-42c6-be74-31325dc30952"
      },
      "execution_count": 5,
      "outputs": [
        {
          "output_type": "stream",
          "name": "stdout",
          "text": [
            "Collecting pulp\n",
            "  Downloading PuLP-2.9.0-py3-none-any.whl.metadata (5.4 kB)\n",
            "Downloading PuLP-2.9.0-py3-none-any.whl (17.7 MB)\n",
            "\u001b[2K   \u001b[90m━━━━━━━━━━━━━━━━━━━━━━━━━━━━━━━━━━━━━━━━\u001b[0m \u001b[32m17.7/17.7 MB\u001b[0m \u001b[31m41.6 MB/s\u001b[0m eta \u001b[36m0:00:00\u001b[0m\n",
            "\u001b[?25hInstalling collected packages: pulp\n",
            "Successfully installed pulp-2.9.0\n"
          ]
        }
      ]
    },
    {
      "cell_type": "code",
      "source": [
        "from scipy.optimize import linprog\n",
        "\n",
        "# Define the objective function coefficients (maximize profit)\n",
        "c = [-50, -120]  # Negative coefficients for maximization\n",
        "\n",
        "# Define the inequality constraints (budget and labor)\n",
        "A_ub = [[7000, 2000],  # Budget constraint\n",
        "        [10, 30]]      # Labor constraint\n",
        "b_ub = [700000, 1200]\n",
        "\n",
        "# Define the equality constraint (total land area)\n",
        "A_eq = [[1, 1]]\n",
        "b_eq = [110]\n",
        "\n",
        "# Define the bounds for the variables (non-negative hectares)\n",
        "bounds = [(0, None), (0, None)]\n",
        "\n",
        "# Solve the linear programming problem\n",
        "res = linprog(c, A_ub=A_ub, b_ub=b_ub, A_eq=A_eq, b_eq=b_eq, bounds=bounds)\n",
        "\n",
        "# Print the results\n",
        "if res.success:\n",
        "    print(\"Optimal solution found:\")\n",
        "    print(\"Hectares of Wheat:\", round(res.x[0], 2))\n",
        "    print(\"Hectares of Barley:\", round(res.x[1], 2))\n",
        "    print(\"Optimal profit:\", -round(res.fun, 2))  # Negate the objective function value\n",
        "else:\n",
        "    print(\"Optimal solution not found.\")"
      ],
      "metadata": {
        "colab": {
          "base_uri": "https://localhost:8080/"
        },
        "id": "Prg4DiNIDh9O",
        "outputId": "e6a63c05-2bde-4fa7-9d7b-875358445efc"
      },
      "execution_count": 8,
      "outputs": [
        {
          "output_type": "stream",
          "name": "stdout",
          "text": [
            "Optimal solution not found.\n"
          ]
        }
      ]
    }
  ]
}